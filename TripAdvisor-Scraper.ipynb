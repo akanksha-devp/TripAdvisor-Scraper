{
 "cells": [
  {
   "cell_type": "code",
   "execution_count": null,
   "metadata": {},
   "outputs": [],
   "source": [
    "from bs4 import BeautifulSoup\n",
    "from selenium import webdriver\n",
    "import requests\n",
    "import time\n",
    "import csv\n",
    "import re\n",
    "from selenium.common.exceptions import ElementClickInterceptedException\n",
    "from selenium.common.exceptions import StaleElementReferenceException\n",
    "import os\n",
    "import urllib.request\n",
    "from selenium.common.exceptions import NoSuchElementException\n",
    "import pandas as pd\n",
    "# To use Tor's SOCKS proxy server with chrome, include the socks protocol in the scheme with the --proxy-server option\n",
    "# PROXY = \"socks5://127.0.0.1:9150\" # IP:PORT or HOST:PORT\n",
    "torexe = os.popen(r'C:\\Users\\stuti\\Tor Browser\\Browser\\TorBrowser\\Tor\\tor.exe')\n",
    "PROXY = \"socks5://localhost:9050\" # IP:PORT or HOST:PORT\n",
    "options = webdriver.ChromeOptions()\n",
    "options.add_argument('--proxy-server=%s' % PROXY)\n",
    "driver = webdriver.Chrome(chrome_options=options, executable_path=r'C:\\chromedriver_win32\\chromedriver.exe')"
   ]
  },
  {
   "cell_type": "code",
   "execution_count": null,
   "metadata": {},
   "outputs": [],
   "source": [
    "driver.get('https://www.tripadvisor.in/Hotels-g304551-oa3960-New_Delhi_National_Capital_Territory_of_Delhi-Hotels.html')"
   ]
  },
  {
   "cell_type": "code",
   "execution_count": null,
   "metadata": {},
   "outputs": [],
   "source": [
    "soup = BeautifulSoup(driver.page_source, 'html.parser')\n",
    "domain = 'https://www.tripadvisor.in'\n",
    "#pagination buttons' xpaths\n",
    "next_page1 = '//*[@id=\"taplc_main_pagination_bar_dusty_hotels_resp_0\"]/div/div/div/a'\n",
    "next_page = '//*[@id=\"taplc_main_pagination_bar_dusty_hotels_resp_0\"]/div/div/div/a[2]'\n",
    "\n",
    "#page_list contains no. of pages\n",
    "page_list = range(int(soup.find(\"div\", {\"class\": \"pageNumbers\"}).find_all(\"a\")[-1].get(\"data-page-number\")))\n",
    "\n",
    "print(\"Total number of page: {}\".format(len(page_list)))\n",
    "\n",
    "#open csv file to save the data in\n",
    "with open('./data/hotels.csv', 'a') as csvfile:\n",
    "    fieldnames = ['hotel_name', 'n_comment', 'n_star', 'url','price']\n",
    "    writer = csv.DictWriter(csvfile, fieldnames=fieldnames)\n",
    "    writer.writeheader()\n",
    "    counter = 0\n",
    "    for p in page_list:\n",
    "        counter+=1\n",
    "        print('the number of page = {0}/{1}'.format(p+1, len(page_list)))\n",
    "        soup = BeautifulSoup(driver.page_source, 'html.parser')\n",
    "        hotel_blocks = soup.find_all('div', {\"class\": \"prw_rup prw_meta_hsx_responsive_listing ui_section listItem\"})\n",
    "\n",
    "        for element in hotel_blocks:\n",
    "            try:\n",
    "                hotel_name = element.find('div', {\"class\": \"listing_title\"}).text\n",
    "                url = domain+element.find('div', {\"class\": \"listing_title\"}).find('a').get('href')\n",
    "                n_comment = element.find('a', {\"class\": \"review_count\"}).text\n",
    "                n_comment = re.sub('[^0-9,]', \"\", n_comment).replace(',','')\n",
    "                n_star = element.find('a', {\"data-clicksource\":\"BubbleRating\"}).attrs['alt']\n",
    "                price = element.find('div', {\"class\": \"price __resizeWatch\"}).text\n",
    "                price=price[1:]\n",
    "            except AttributeError:\n",
    "                hotel_name = element.find('div', {\"class\": \"listing_title\"}).text\n",
    "                url = domain+element.find('div', {\"class\": \"listing_title\"}).find('a').get('href')\n",
    "                n_comment = element.find('a', {\"class\": \"review_count\"}).text\n",
    "                n_comment = re.sub('[^0-9,]', \"\", n_comment).replace(',','')\n",
    "                n_star = 'None'\n",
    "                price = element.find('div', {\"class\": \"price __resizeWatch\"}).text\n",
    "                price=price[1:]                \n",
    "\n",
    "            writer.writerow(\n",
    "                            {\n",
    "                                'hotel_name':hotel_name,\n",
    "                                'n_comment':n_comment,\n",
    "                                'n_star':n_star,\n",
    "                                'url':url,\n",
    "                                'price':price\n",
    "                            }\n",
    "                           )              \n",
    "        if counter<=1:\n",
    "            driver.find_element_by_xpath(next_page1).click()\n",
    "            time.sleep(8)\n",
    "        else:\n",
    "            driver.find_element_by_xpath(next_page).click()\n",
    "            time.sleep(8)             "
   ]
  }
 ],
 "metadata": {
  "kernelspec": {
   "display_name": "Python 3",
   "language": "python",
   "name": "python3"
  },
  "language_info": {
   "codemirror_mode": {
    "name": "ipython",
    "version": 3
   },
   "file_extension": ".py",
   "mimetype": "text/x-python",
   "name": "python",
   "nbconvert_exporter": "python",
   "pygments_lexer": "ipython3",
   "version": "3.7.4"
  }
 },
 "nbformat": 4,
 "nbformat_minor": 2
}
